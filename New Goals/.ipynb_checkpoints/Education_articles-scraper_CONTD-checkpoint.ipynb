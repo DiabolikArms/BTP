{
 "cells": [
  {
   "cell_type": "code",
   "execution_count": 1,
   "id": "a0746ce3-d2da-457d-aa12-32f7e39eb1e8",
   "metadata": {},
   "outputs": [],
   "source": [
    "# Import required libraries\n",
    "from selenium import webdriver\n",
    "from selenium.webdriver import ActionChains\n",
    "from selenium.webdriver.chrome.service import Service\n",
    "from selenium.webdriver.common.keys import Keys\n",
    "from selenium.webdriver.support import expected_conditions as EC\n",
    "from selenium.webdriver.common.by import By\n",
    "from selenium.webdriver.support.wait import WebDriverWait\n",
    "from selenium.webdriver.support.ui import WebDriverWait\n",
    "from selenium.common.exceptions import WebDriverException, TimeoutException, NoSuchElementException, StaleElementReferenceException, ElementClickInterceptedException\n",
    "from datetime import datetime\n",
    "import time\n",
    "import os\n",
    "import wget\n",
    "import json\n",
    "import csv"
   ]
  },
  {
   "cell_type": "code",
   "execution_count": 2,
   "id": "71a01537-d47b-4448-a7dd-ecf2b51d7395",
   "metadata": {},
   "outputs": [],
   "source": [
    "# Set up ChromeDriver\n",
    "service = Service('E:/Programs/Chrome Driver/chromedriver.exe')\n",
    "driver = webdriver.Chrome(service=service)"
   ]
  },
  {
   "cell_type": "code",
   "execution_count": 3,
   "id": "0f44fd7e-096b-4695-a510-18b1d950439d",
   "metadata": {},
   "outputs": [],
   "source": [
    "import pickle\n",
    "\n",
    "# Define the file path to load the data\n",
    "file_path = 'hrefs_with_categories.pkl'\n",
    "\n",
    "# Load the data using pickle\n",
    "with open(file_path, 'rb') as file:\n",
    "    hrefs_with_categories = pickle.load(file)"
   ]
  },
  {
   "cell_type": "code",
   "execution_count": 7,
   "id": "a50b1a88-287e-48a4-bb9f-9b9b5169c703",
   "metadata": {},
   "outputs": [
    {
     "name": "stdout",
     "output_type": "stream",
     "text": [
      "1. https://timesofindia.indiatimes.com/education/times-study-abroad\n",
      "2. https://timesofindia.indiatimes.com/education/jobs\n"
     ]
    }
   ],
   "source": [
    "# Initialize an empty list to store education hrefs\n",
    "education_hrefs = []\n",
    "\n",
    "# Iterate through hrefs with categories\n",
    "for href, category in hrefs_with_categories:\n",
    "    if category.lower() == \"education\":\n",
    "        education_hrefs.append(href)\n",
    "\n",
    "# Filter hrefs to keep only those starting with the specified URL\n",
    "hrefs = [href for href in education_hrefs if href.startswith(\"https://timesofindia.indiatimes.com/education\")]\n",
    "\n",
    "# Optionally, print the stored hrefs\n",
    "for index, href in enumerate(hrefs, start=1):\n",
    "    print(f\"{index}. {href}\")\n"
   ]
  },
  {
   "cell_type": "code",
   "execution_count": null,
   "id": "2bf7580d-ad3f-4ad6-8039-a50be97efdbf",
   "metadata": {},
   "outputs": [],
   "source": []
  },
  {
   "cell_type": "code",
   "execution_count": 8,
   "id": "505f79c1-2ff9-491d-ae67-631f83dbf698",
   "metadata": {},
   "outputs": [],
   "source": [
    "driver.quit()"
   ]
  }
 ],
 "metadata": {
  "kernelspec": {
   "display_name": "Python 3 (ipykernel)",
   "language": "python",
   "name": "python3"
  },
  "language_info": {
   "codemirror_mode": {
    "name": "ipython",
    "version": 3
   },
   "file_extension": ".py",
   "mimetype": "text/x-python",
   "name": "python",
   "nbconvert_exporter": "python",
   "pygments_lexer": "ipython3",
   "version": "3.12.0"
  }
 },
 "nbformat": 4,
 "nbformat_minor": 5
}
