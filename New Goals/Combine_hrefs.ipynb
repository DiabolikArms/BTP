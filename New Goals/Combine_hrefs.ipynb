{
 "cells": [
  {
   "cell_type": "code",
   "execution_count": 1,
   "id": "17898d6b-7546-4fd1-bab3-6e5259672be9",
   "metadata": {},
   "outputs": [],
   "source": [
    "# Import required libraries\n",
    "from selenium import webdriver\n",
    "from selenium.webdriver import ActionChains\n",
    "from selenium.webdriver.chrome.service import Service\n",
    "from selenium.webdriver.common.keys import Keys\n",
    "from selenium.webdriver.support import expected_conditions as EC\n",
    "from selenium.webdriver.common.by import By\n",
    "from selenium.webdriver.support.wait import WebDriverWait\n",
    "from selenium.webdriver.support.ui import WebDriverWait\n",
    "from selenium.common.exceptions import WebDriverException, TimeoutException, NoSuchElementException, StaleElementReferenceException, ElementClickInterceptedException\n",
    "from datetime import datetime\n",
    "import time\n",
    "import os\n",
    "import wget\n",
    "import json\n",
    "import csv\n",
    "import pickle"
   ]
  },
  {
   "cell_type": "code",
   "execution_count": 2,
   "id": "3da38008-7621-4c26-be74-b6bbf648f825",
   "metadata": {},
   "outputs": [
    {
     "name": "stdout",
     "output_type": "stream",
     "text": [
      "637\n"
     ]
    }
   ],
   "source": [
    "import pickle\n",
    "\n",
    "# Define the file path where the data is saved\n",
    "file_path = 'articles_from_technews.pkl'\n",
    "\n",
    "# Load the data using pickle\n",
    "with open(file_path, 'rb') as file:\n",
    "    hrefs_with_pairs = pickle.load(file)\n",
    "\n",
    "for pair in hrefs_with_pairs:\n",
    "    pair[1] = \"TECH-NEWS\"\n",
    "\n",
    "tech_news_hrefs_n_category = hrefs_with_pairs\n",
    "\n",
    "print(len(tech_news_hrefs_n_category))\n"
   ]
  },
  {
   "cell_type": "code",
   "execution_count": 3,
   "id": "5bd9fc5e-c3e2-421f-bb1c-87ca4b2e31c5",
   "metadata": {},
   "outputs": [
    {
     "name": "stdout",
     "output_type": "stream",
     "text": [
      "2550\n"
     ]
    }
   ],
   "source": [
    "# Define the file path where the data is saved\n",
    "file_path = 'articles_from_politics.pkl'\n",
    "\n",
    "# Load the data using pickle\n",
    "with open(file_path, 'rb') as file:\n",
    "    hrefs_with_pairs = pickle.load(file)\n",
    "\n",
    "# Initialize the list to store uniform hrefs\n",
    "politics_hrefs_n_category = []\n",
    "\n",
    "for pair in hrefs_with_pairs:\n",
    "    if isinstance(pair, dict):\n",
    "        # Extract href and set category to POLITICS\n",
    "        href = pair['href']\n",
    "        politics_hrefs_n_category.append([href, \"POLITICS\"])  # Use square brackets for lists\n",
    "    elif isinstance(pair, tuple):\n",
    "        # Replace the second element with POLITICS\n",
    "        politics_hrefs_n_category.append([pair[0], \"POLITICS\"])  # Use square brackets for lists\n",
    "\n",
    "# # Print the result\n",
    "# for index, href_pair in enumerate(politics_hrefs_n_category):\n",
    "#     print(f\"{index}. {href_pair}\")\n",
    "print(len(politics_hrefs_n_category))\n"
   ]
  },
  {
   "cell_type": "code",
   "execution_count": 4,
   "id": "3c8e0120-cfdb-4925-809a-8c265f93a06b",
   "metadata": {},
   "outputs": [
    {
     "name": "stdout",
     "output_type": "stream",
     "text": [
      "126\n"
     ]
    }
   ],
   "source": [
    "# Define the file path where the data is saved\n",
    "file_path = 'articles_from_goodnews.pkl'\n",
    "\n",
    "# Load the data using pickle\n",
    "with open(file_path, 'rb') as file:\n",
    "    hrefs_with_pairs = pickle.load(file)\n",
    "\n",
    "for pair in hrefs_with_pairs:\n",
    "    pair[1] = \"GOOD-NEWS\"\n",
    "\n",
    "goodnews_hrefs_n_category = hrefs_with_pairs\n",
    "\n",
    "print(len(goodnews_hrefs_n_category))\n"
   ]
  },
  {
   "cell_type": "code",
   "execution_count": 5,
   "id": "7b35c19d-a722-4912-820e-f8f2b068c5a6",
   "metadata": {},
   "outputs": [
    {
     "name": "stdout",
     "output_type": "stream",
     "text": [
      "3930\n"
     ]
    }
   ],
   "source": [
    "# Define the file path where the data is saved\n",
    "file_path = 'articles_from_india.pkl'\n",
    "\n",
    "# Load the data using pickle\n",
    "with open(file_path, 'rb') as file:\n",
    "    hrefs_with_pairs = pickle.load(file)\n",
    "\n",
    "for pair in hrefs_with_pairs:\n",
    "    pair[1] = \"INDIA\"\n",
    "\n",
    "india_hrefs_n_category = hrefs_with_pairs\n",
    "\n",
    "print(len(india_hrefs_n_category))\n"
   ]
  },
  {
   "cell_type": "code",
   "execution_count": 6,
   "id": "1d250d12-ae73-4818-b217-1f69f9bd86a3",
   "metadata": {},
   "outputs": [
    {
     "name": "stdout",
     "output_type": "stream",
     "text": [
      "1518\n"
     ]
    }
   ],
   "source": [
    "# Define the file path where the data is saved\n",
    "file_path = 'articles_from_education.pkl'\n",
    "\n",
    "# Load the data using pickle\n",
    "with open(file_path, 'rb') as file:\n",
    "    hrefs_with_pairs = pickle.load(file)\n",
    "\n",
    "for pair in hrefs_with_pairs:\n",
    "    pair[1] = \"EDUCATION\"\n",
    "\n",
    "education_hrefs_n_category = hrefs_with_pairs\n",
    "\n",
    "print(len(education_hrefs_n_category))\n"
   ]
  },
  {
   "cell_type": "code",
   "execution_count": 7,
   "id": "6ef587b3-2cfb-4d5b-af3c-04fd4cf2ca1a",
   "metadata": {},
   "outputs": [
    {
     "name": "stdout",
     "output_type": "stream",
     "text": [
      "18347\n"
     ]
    }
   ],
   "source": [
    "# Define the file path where the data is saved\n",
    "file_path = 'articles_from_sports.pkl'\n",
    "\n",
    "# Load the data using pickle\n",
    "with open(file_path, 'rb') as file:\n",
    "    hrefs_with_pairs = pickle.load(file)\n",
    "\n",
    "for pair in hrefs_with_pairs:\n",
    "    pair[1] = \"SPORTS\"\n",
    "\n",
    "sports_hrefs_n_category = hrefs_with_pairs\n",
    "\n",
    "print(len(sports_hrefs_n_category))\n"
   ]
  },
  {
   "cell_type": "code",
   "execution_count": 8,
   "id": "910fce9a-27c1-465a-99ee-a1a16182a856",
   "metadata": {},
   "outputs": [
    {
     "name": "stdout",
     "output_type": "stream",
     "text": [
      "27108\n"
     ]
    }
   ],
   "source": [
    "# Combine all lists into one list \"hrefs\"\n",
    "hrefs = india_hrefs_n_category + politics_hrefs_n_category + goodnews_hrefs_n_category + tech_news_hrefs_n_category + education_hrefs_n_category + sports_hrefs_n_category\n",
    "\n",
    "# Output the combined list\n",
    "print(len(hrefs))\n"
   ]
  },
  {
   "cell_type": "code",
   "execution_count": 11,
   "id": "ffa79482-87ff-4359-9b54-6b5d159fc6e3",
   "metadata": {},
   "outputs": [
    {
     "name": "stdout",
     "output_type": "stream",
     "text": [
      "['https://timesofindia.indiatimes.com/india/rs-45-lakh-seized-bjp-picks-team-says-his-dads-money/articleshow/113776837.cms', 'INDIA']\n",
      "['https://timesofindia.indiatimes.com/india/bjp-slams-rahul-for-ayodhya-event-remark/articleshow/113776781.cms', 'INDIA']\n",
      "['https://timesofindia.indiatimes.com/india/pm-modi-cites-surgical-strikes-to-mount-attack-against-congress/articleshow/113776542.cms', 'INDIA']\n",
      "['https://timesofindia.indiatimes.com/india/zoon-to-zyeun-how-iltijas-pdp-slogan-has-been-adopted-by-nc/articleshow/113776395.cms', 'INDIA']\n",
      "['https://timesofindia.indiatimes.com/india/cockroach-in-ai-del-ny-flight-meal-kid-falls-ill/articleshow/113776272.cms', 'INDIA']\n"
     ]
    }
   ],
   "source": [
    "for item in hrefs[:5]:\n",
    "    print(item)\n"
   ]
  },
  {
   "cell_type": "code",
   "execution_count": null,
   "id": "c9700d77-7c4b-4aab-8cbe-a1212e064629",
   "metadata": {},
   "outputs": [],
   "source": [
    "file_path = 'combined_articles.pkl'\n",
    "\n",
    "# Save the combined list using pickle\n",
    "with open(file_path, 'wb') as file:\n",
    "    pickle.dump(hrefs, file)"
   ]
  }
 ],
 "metadata": {
  "kernelspec": {
   "display_name": "Python 3 (ipykernel)",
   "language": "python",
   "name": "python3"
  },
  "language_info": {
   "codemirror_mode": {
    "name": "ipython",
    "version": 3
   },
   "file_extension": ".py",
   "mimetype": "text/x-python",
   "name": "python",
   "nbconvert_exporter": "python",
   "pygments_lexer": "ipython3",
   "version": "3.12.0"
  }
 },
 "nbformat": 4,
 "nbformat_minor": 5
}
