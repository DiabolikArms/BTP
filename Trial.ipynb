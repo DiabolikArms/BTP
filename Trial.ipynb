{
 "cells": [
  {
   "cell_type": "code",
   "execution_count": 1,
   "id": "aa861056-b28f-42a5-826a-9f321c67de72",
   "metadata": {},
   "outputs": [],
   "source": [
    "from selenium import webdriver\n",
    "from selenium.webdriver.chrome.service import Service\n",
    "from selenium.webdriver.common.keys import Keys\n",
    "from selenium.webdriver.support import expected_conditions as EC\n",
    "from selenium.webdriver.common.by import By\n",
    "from selenium.webdriver.support.wait import WebDriverWait\n",
    "from selenium.webdriver.support.ui import WebDriverWait\n",
    "from selenium.common.exceptions import WebDriverException, TimeoutException, NoSuchElementException\n",
    "from datetime import datetime\n",
    "import time\n",
    "import os\n",
    "import wget\n",
    "import json\n",
    "import csv"
   ]
  },
  {
   "cell_type": "code",
   "execution_count": 6,
   "id": "4f700a45-2dd9-43cc-a2b1-f70b0992447e",
   "metadata": {},
   "outputs": [
    {
     "name": "stderr",
     "output_type": "stream",
     "text": [
      "The chromedriver version (127.0.6533.99) detected in PATH at E:\\Programs\\Chrome Driver\\chromedriver.exe might not be compatible with the detected chrome version (128.0.6613.86); currently, chromedriver 128.0.6613.86 is recommended for chrome 128.*, so it is advised to delete the driver in PATH and retry\n"
     ]
    }
   ],
   "source": [
    "\n",
    "# Set up your web driver (e.g., Chrome)\n",
    "driver = webdriver.Chrome()\n",
    "\n",
    "# Open the target webpage\n",
    "driver.get(\"https://timesofindia.indiatimes.com/auto/commercial-vehicles/mahindra-leads-electric-threewheeler-sales-in-india-in-fy2024/articleshow/107522324.cms\")\n",
    "\n",
    "\n"
   ]
  },
  {
   "cell_type": "code",
   "execution_count": 7,
   "id": "60ff050e-8d6e-4f91-8423-ed34f2d55cd2",
   "metadata": {},
   "outputs": [
    {
     "name": "stdout",
     "output_type": "stream",
     "text": [
      "Formatted Date: 08.02.2024\n",
      "Author: TOI\n",
      "News Content: Mahindra Last Mile Mobility, a Mahindra & Mahindra subsidiary, marked a significant milestone in FY24, surpassing sales of over 1.4 lakh electric vehicles, securing a substantial 9.3 percent market share nationwide. Notably, the manufacturer leads the L5 EV category with a 55.1% percent market share year-to-date in FY24.\n",
      "In the eight-month period, MLMML experienced significant growth, delivering 40,000 EVs driven by the launches of Treo Plus and e-Alfa Super rickshaw and cargo variants.\n",
      "\n",
      "To meet the escalating demand, the company says that it has tripled its production capacity, with manufacturing plants currently located in Bengaluru, Haridwar, and Zaheerabad.\n",
      "2023 Oben Rorr Review: More money and less power? | TOI Auto\n",
      "\n",
      "  BY TABOOLA\n",
      "SPONSORED LINKS\n",
      "YOU MAY LIKE\n",
      "Office 2024: Upgrade Now [Get it]\n",
      "ps.sbs\n",
      "Get Now\n",
      "At present, the company’s lineup of three-wheeler EVs includes Treo, Treo Plus, Treo Zor, Treo Yaari, Zor Grand, e-Alfa Super, and e-Alfa Cargo, catering to various transportation needs. As part of a customer safety initiative, the company offers the UDAY program, providing drivers with Rs 10 lakh accident insurance cover for the first year upon purchasing an MLMM EV.\n",
      "Overall EV sales in India's last-mile mobility sector, particularly in three-wheelers, have experienced significant growth in recent years. One key driver of EV adoption in the last-mile mobility segment is the lower operating cost compared to traditional ICE vehicles. EVs offer reduced fuel expenses and maintenance costs, making them an attractive option for fleet operators and individual drivers.\n",
      "Stay tuned to TOI Auto for latest updates on the automotive sector and do follow us on our social media handles on Facebook, Instagram, and X.\n"
     ]
    }
   ],
   "source": [
    "timestamp_element = driver.find_element(By.XPATH, \"//*[contains(concat(' ', @class, ' '), concat(' ', 'byline', ' '))]//span\")\n",
    "timestamp = timestamp_element.text.strip()\n",
    "try:\n",
    "    author_element = driver.find_element(By.XPATH, \"//*[contains(concat(' ', @class, ' '), ' mMwSH ')]\")\n",
    "    author = author_element.text\n",
    "except NoSuchElementException:\n",
    "    author = \"TOI\"\n",
    "article_div = driver.find_element(By.XPATH, \"//div[contains(@class, 'clearfix') and contains(@class, '_s30J')]\")\n",
    "article_text = article_div.text\n",
    "\n",
    "\n",
    "# Remove common prefixes like 'Updated:' if present\n",
    "if \"Updated:\" in timestamp:\n",
    "    timestamp = timestamp.replace(\"Updated:\", \"\").strip()\n",
    "# Split the timestamp to remove the time part and clean up the string\n",
    "try:\n",
    "    date_part = timestamp.split(\",\")[0] + \" \" + timestamp.split(\",\")[1].strip()\n",
    "    # Convert the date part to a datetime object, making sure the format matches\n",
    "    date_object = datetime.strptime(date_part, \"%b %d %Y\")\n",
    "    # Format the datetime object to DD.MM.YYYY\n",
    "    formatted_date = date_object.strftime(\"%d.%m.%Y\")\n",
    "    # Set the timestamp to the formatted date\n",
    "    timestamp = formatted_date\n",
    "except (IndexError, ValueError) as e:\n",
    "    print(f\"Error processing timestamp '{timestamp}': {e}\")\n",
    "    # Handle the error accordingly (e.g., set a default date or skip processing)\n",
    "    timestamp = None\n",
    "    \n",
    "\n",
    "print(\"Formatted Date:\", timestamp)\n",
    "print(\"Author:\", author)\n",
    "print(\"News Content:\", article_text)\n"
   ]
  },
  {
   "cell_type": "code",
   "execution_count": 9,
   "id": "c9fcf59c-6e4a-4176-8af0-da61047e0ad7",
   "metadata": {},
   "outputs": [],
   "source": [
    "driver.quit()"
   ]
  }
 ],
 "metadata": {
  "kernelspec": {
   "display_name": "Python 3 (ipykernel)",
   "language": "python",
   "name": "python3"
  },
  "language_info": {
   "codemirror_mode": {
    "name": "ipython",
    "version": 3
   },
   "file_extension": ".py",
   "mimetype": "text/x-python",
   "name": "python",
   "nbconvert_exporter": "python",
   "pygments_lexer": "ipython3",
   "version": "3.12.0"
  }
 },
 "nbformat": 4,
 "nbformat_minor": 5
}
