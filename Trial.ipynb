{
 "cells": [
  {
   "cell_type": "code",
   "execution_count": 11,
   "id": "aa861056-b28f-42a5-826a-9f321c67de72",
   "metadata": {},
   "outputs": [],
   "source": [
    "from selenium import webdriver\n",
    "from selenium.webdriver.chrome.service import Service\n",
    "from selenium.webdriver.common.keys import Keys\n",
    "from selenium.webdriver.support import expected_conditions as EC\n",
    "from selenium.webdriver.common.by import By\n",
    "from selenium.webdriver.support.wait import WebDriverWait\n",
    "from selenium.webdriver.support.ui import WebDriverWait\n",
    "from selenium.common.exceptions import WebDriverException, TimeoutException, NoSuchElementException\n",
    "from datetime import datetime\n",
    "import time\n",
    "import os\n",
    "import wget\n",
    "import json\n",
    "import csv"
   ]
  },
  {
   "cell_type": "code",
   "execution_count": 9,
   "id": "4f700a45-2dd9-43cc-a2b1-f70b0992447e",
   "metadata": {},
   "outputs": [
    {
     "name": "stderr",
     "output_type": "stream",
     "text": [
      "The chromedriver version (127.0.6533.99) detected in PATH at E:\\Programs\\Chrome Driver\\chromedriver.exe might not be compatible with the detected chrome version (128.0.6613.86); currently, chromedriver 128.0.6613.86 is recommended for chrome 128.*, so it is advised to delete the driver in PATH and retry\n"
     ]
    }
   ],
   "source": [
    "\n",
    "# Set up your web driver (e.g., Chrome)\n",
    "driver = webdriver.Chrome()\n",
    "\n",
    "# Open the target webpage\n",
    "driver.get(\"https://timesofindia.indiatimes.com/technology/appliances/dreame-launches-new-range-of-robotic-dry-and-wet-and-cordless-vacuum-cleaners-in-india-price-starts-at-rs-7999/articleshow/112801340.cms\")\n",
    "\n",
    "\n"
   ]
  },
  {
   "cell_type": "code",
   "execution_count": 16,
   "id": "60ff050e-8d6e-4f91-8423-ed34f2d55cd2",
   "metadata": {},
   "outputs": [
    {
     "name": "stdout",
     "output_type": "stream",
     "text": [
      "Formatted Date: 26.08.2024\n"
     ]
    }
   ],
   "source": [
    "# Locate the element using the provided XPath\n",
    "timestamp_element = driver.find_element(By.XPATH, \"//*[contains(concat( ' ', @class, ' ' ), concat( ' ', 'byline', ' ' ))]//span\")\n",
    "timestamp = timestamp_element.text\n",
    "date_part = timestamp.split(\",\")[0] + \" \" + timestamp.split(\",\")[1].strip()\n",
    "date_object = datetime.strptime(date_part, \"%b %d %Y\")\n",
    "formatted_date = date_object.strftime(\"%d.%m.%Y\")\n",
    "timestamp = formatted_date\n",
    "\n",
    "print(\"Formatted Date:\", timestamp)\n"
   ]
  }
 ],
 "metadata": {
  "kernelspec": {
   "display_name": "Python 3 (ipykernel)",
   "language": "python",
   "name": "python3"
  },
  "language_info": {
   "codemirror_mode": {
    "name": "ipython",
    "version": 3
   },
   "file_extension": ".py",
   "mimetype": "text/x-python",
   "name": "python",
   "nbconvert_exporter": "python",
   "pygments_lexer": "ipython3",
   "version": "3.12.0"
  }
 },
 "nbformat": 4,
 "nbformat_minor": 5
}
